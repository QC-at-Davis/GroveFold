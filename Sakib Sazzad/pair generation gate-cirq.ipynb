{
 "cells": [
  {
   "cell_type": "code",
   "execution_count": 1,
   "id": "527a3acd-be39-44aa-b0b4-64ce543271bc",
   "metadata": {},
   "outputs": [],
   "source": [
    "import cirq\n",
    "from math import pi"
   ]
  },
  {
   "cell_type": "code",
   "execution_count": 2,
   "id": "c8ff0463-7c6d-4863-b117-f84f9bf87e52",
   "metadata": {},
   "outputs": [
    {
     "name": "stdout",
     "output_type": "stream",
     "text": [
      "                                                                                     ┌────────────┐\n",
      "0: ───X───────@───H─────────────@───@─────────────────────────────────────────────────@───────────────@────────────────────────────────X───\n",
      "      │       │                 │   │                                                 │               │                                │\n",
      "1: ───@───X───@─────────────────┼───┼──────────────────────────@──────────────────────┼───────────────┼────────────────────@───────X───@───\n",
      "          │                     │   │                          │                      │               │                    │       │\n",
      "2: ───────┼───X───Ry(0.125π)────┼───X─────────────Ry(0.125π)───X───@───Ry(-0.125π)────┼Ry(-0.125π)────┼────────────────X───┼───────┼───────\n",
      "          │   │                 │                                  │                  │               │                │   │       │\n",
      "3: ───────@───@───Ry(-0.125π)───X───Ry(-0.125π)────────────────────X───Ry(0.125π)─────X───────────────@───Ry(0.125π)───@───X───H───@───────\n",
      "                                                                                     └────────────┘\n"
     ]
    }
   ],
   "source": [
    "circuit= cirq.Circuit()\n",
    "q0, q1, q2, q3= cirq.LineQubit.range(4)\n",
    "\n",
    "circuit.append(cirq.CNOT(q1, q0))\n",
    "circuit.append(cirq.CNOT(q3, q1))\n",
    "circuit.append(cirq.CZ(q0, q1))\n",
    "circuit.append(cirq.H(q0))\n",
    "circuit.append(cirq.CNOT(q3, q2))\n",
    "circuit.append(cirq.ry(rads=3.14/8)(q2))\n",
    "circuit.append(cirq.ry(rads=-3.14/8)(q3))\n",
    "circuit.append(cirq.CNOT(q0, q3))\n",
    "circuit.append(cirq.CNOT(q0, q2))\n",
    "circuit.append(cirq.ry(rads=-3.14/8)(q3))\n",
    "circuit.append(cirq.ry(rads=3.14/8)(q2))\n",
    "circuit.append(cirq.CNOT(q1, q2))\n",
    "circuit.append(cirq.CNOT(q2, q3))\n",
    "circuit.append(cirq.ry(rads=-3.14/8)(q2))\n",
    "circuit.append(cirq.ry(rads=3.14/8)(q3))\n",
    "circuit.append(cirq.CNOT(q0, q3))\n",
    "circuit.append(cirq.CZ(q0, q3))\n",
    "circuit.append(cirq.ry(rads=-3.14/8)(q2))\n",
    "circuit.append(cirq.ry(rads=3.14/8)(q3))\n",
    "circuit.append(cirq.CNOT(q3, q2))\n",
    "circuit.append(cirq.CNOT(q1, q3))\n",
    "circuit.append(cirq.H(q3))\n",
    "circuit.append(cirq.CNOT(q3, q1))\n",
    "circuit.append(cirq.CNOT(q1, q0))\n",
    "\n",
    "print(circuit)\n"
   ]
  },
  {
   "cell_type": "code",
   "execution_count": null,
   "id": "db2f5327-7fe6-41bd-9d9c-00952843e2fb",
   "metadata": {},
   "outputs": [],
   "source": []
  }
 ],
 "metadata": {
  "kernelspec": {
   "display_name": "Python 3 [Cirq]",
   "language": "python",
   "name": "python3_cirq__openfer_5f52ck"
  },
  "language_info": {
   "codemirror_mode": {
    "name": "ipython",
    "version": 3
   },
   "file_extension": ".py",
   "mimetype": "text/x-python",
   "name": "python",
   "nbconvert_exporter": "python",
   "pygments_lexer": "ipython3",
   "version": "3.9.10"
  }
 },
 "nbformat": 4,
 "nbformat_minor": 5
}
