{
 "cells": [
  {
   "cell_type": "markdown",
   "id": "693eb7e4-c47a-4b49-b062-f1b324e6f614",
   "metadata": {},
   "source": [
    "Take the unitary matrices from Cirq for the Givens rotations and compare them against Xanadu's tutorial here: https://pennylane.ai/qml/demos/tutorial_givens_rotations.html#givens-rotations\n",
    "\n",
    "This notebook helped identify the fact that Cirq's native Givens implementation is defined such that the angle theta is not divided by two prior to being fed to the sine/cosine functions, contrary to Pennylane's implementation which does"
   ]
  },
  {
   "cell_type": "code",
   "execution_count": 1,
   "id": "5852f839-01fe-4825-928f-ce8d68916efd",
   "metadata": {},
   "outputs": [],
   "source": [
    "import numpy as np\n",
    "import cirq"
   ]
  },
  {
   "cell_type": "code",
   "execution_count": 2,
   "id": "2cc5b742-dc28-4bb2-86ac-e5504efd1925",
   "metadata": {},
   "outputs": [],
   "source": [
    "# angles taken from https://pennylane.ai/qml/demos/tutorial_givens_rotations.html#givens-rotations\n",
    "x = -2 * np.arcsin(np.sqrt(1/3))\n",
    "y = -2 * np.arcsin(np.sqrt(1/2))"
   ]
  },
  {
   "cell_type": "code",
   "execution_count": 3,
   "id": "441da388-ec54-4397-a4da-bb2b7a62a4a4",
   "metadata": {},
   "outputs": [],
   "source": [
    "# Define first givens rotation\n",
    "g1 = cirq.givens(x / 2)._unitary_()"
   ]
  },
  {
   "cell_type": "code",
   "execution_count": 4,
   "id": "d8599e59-3b43-4b25-b412-bc2d2e2b171c",
   "metadata": {},
   "outputs": [
    {
     "data": {
      "text/plain": [
       "array([[ 1.     +0.j,  0.     +0.j,  0.     +0.j,  0.     +0.j],\n",
       "       [ 0.     +0.j,  0.8165 +0.j,  0.57735-0.j,  0.     +0.j],\n",
       "       [ 0.     +0.j, -0.57735-0.j,  0.8165 +0.j,  0.     +0.j],\n",
       "       [ 0.     +0.j,  0.     +0.j,  0.     +0.j,  1.     +0.j]])"
      ]
     },
     "execution_count": 4,
     "metadata": {},
     "output_type": "execute_result"
    }
   ],
   "source": [
    "np.round(g1, 5)"
   ]
  },
  {
   "cell_type": "code",
   "execution_count": 5,
   "id": "e946a654-d7fd-4deb-9ea4-c06fa98551a6",
   "metadata": {},
   "outputs": [],
   "source": [
    "# Define second givens rotation\n",
    "g2 = cirq.givens(y / 2)._unitary_()"
   ]
  },
  {
   "cell_type": "code",
   "execution_count": 6,
   "id": "768d4917-e9da-4dec-b216-7b1e7a77baae",
   "metadata": {},
   "outputs": [
    {
     "data": {
      "text/plain": [
       "array([[ 1.     +0.j,  0.     +0.j,  0.     +0.j,  0.     +0.j],\n",
       "       [ 0.     +0.j,  0.70711+0.j,  0.70711-0.j,  0.     +0.j],\n",
       "       [ 0.     +0.j, -0.70711-0.j,  0.70711+0.j,  0.     +0.j],\n",
       "       [ 0.     +0.j,  0.     +0.j,  0.     +0.j,  1.     +0.j]])"
      ]
     },
     "execution_count": 6,
     "metadata": {},
     "output_type": "execute_result"
    }
   ],
   "source": [
    "np.round(g2, 5)"
   ]
  },
  {
   "cell_type": "code",
   "execution_count": 7,
   "id": "311825b7-0e6a-4f78-872f-fc2622853bd0",
   "metadata": {},
   "outputs": [],
   "source": [
    "# Create the initial |100> state \n",
    "ket100 = np.array([[0] * 8]).T\n",
    "ket100[4] = [1]"
   ]
  },
  {
   "cell_type": "code",
   "execution_count": 8,
   "id": "6ac564d1-6f15-47c8-ac36-5a9c08ead3f2",
   "metadata": {},
   "outputs": [
    {
     "data": {
      "text/plain": [
       "(8, 1)"
      ]
     },
     "execution_count": 8,
     "metadata": {},
     "output_type": "execute_result"
    }
   ],
   "source": [
    "ket100.shape"
   ]
  },
  {
   "cell_type": "code",
   "execution_count": 9,
   "id": "59596c5a-8743-4d2f-9162-2f9a8f15c43a",
   "metadata": {},
   "outputs": [
    {
     "data": {
      "text/plain": [
       "array([[0],\n",
       "       [0],\n",
       "       [0],\n",
       "       [0],\n",
       "       [1],\n",
       "       [0],\n",
       "       [0],\n",
       "       [0]])"
      ]
     },
     "execution_count": 9,
     "metadata": {},
     "output_type": "execute_result"
    }
   ],
   "source": [
    "ket100"
   ]
  },
  {
   "cell_type": "code",
   "execution_count": null,
   "id": "21902625-df87-4c14-93e9-1c8cb71598e5",
   "metadata": {},
   "outputs": [],
   "source": [
    "# The rotations are only defined in the space of two qubits,\n",
    "# need to do the kronecker product with an identiy matrix to get the right\n",
    "# sized matrices\n",
    "\n",
    "# It's tricky defining the matrix for a givens rotation that targets two \n",
    "# non-adjacent qubits so the workaround here is to define the givens rotations\n",
    "# on adjacent qubits, and then use SWAPS to get the third qubit into an adjacent\n",
    "# position, putting it back afterwards."
   ]
  },
  {
   "cell_type": "code",
   "execution_count": 10,
   "id": "33f57dff-f735-45a5-bf0b-e54956233808",
   "metadata": {},
   "outputs": [],
   "source": [
    "g1_3qubit = np.kron(g1, np.eye(2))"
   ]
  },
  {
   "cell_type": "code",
   "execution_count": 11,
   "id": "825d9efd-aef6-43d5-ad78-d77afa7c00cf",
   "metadata": {},
   "outputs": [],
   "source": [
    "g2_3qubit = np.kron(g2, np.eye(2))"
   ]
  },
  {
   "cell_type": "code",
   "execution_count": 12,
   "id": "36cfdda5-b458-4d7a-a8e2-7e67b2ba83d5",
   "metadata": {},
   "outputs": [],
   "source": [
    "swap = np.eye(4)\n",
    "swap[[1,2]] = swap[[2,1]]"
   ]
  },
  {
   "cell_type": "code",
   "execution_count": 13,
   "id": "39fa86a1-c369-4498-93e7-92ee43852152",
   "metadata": {},
   "outputs": [
    {
     "data": {
      "text/plain": [
       "array([[1., 0., 0., 0.],\n",
       "       [0., 0., 1., 0.],\n",
       "       [0., 1., 0., 0.],\n",
       "       [0., 0., 0., 1.]])"
      ]
     },
     "execution_count": 13,
     "metadata": {},
     "output_type": "execute_result"
    }
   ],
   "source": [
    "swap"
   ]
  },
  {
   "cell_type": "code",
   "execution_count": 14,
   "id": "7e6c1525-5316-41b4-9c1a-5039c3d33fa4",
   "metadata": {},
   "outputs": [],
   "source": [
    "swap_3qubit = np.kron(np.eye(2), swap)"
   ]
  },
  {
   "cell_type": "code",
   "execution_count": 15,
   "id": "59e6be9c-b069-4147-9020-e400919e772c",
   "metadata": {},
   "outputs": [
    {
     "data": {
      "text/plain": [
       "array([[1., 0., 0., 0., 0., 0., 0., 0.],\n",
       "       [0., 0., 1., 0., 0., 0., 0., 0.],\n",
       "       [0., 1., 0., 0., 0., 0., 0., 0.],\n",
       "       [0., 0., 0., 1., 0., 0., 0., 0.],\n",
       "       [0., 0., 0., 0., 1., 0., 0., 0.],\n",
       "       [0., 0., 0., 0., 0., 0., 1., 0.],\n",
       "       [0., 0., 0., 0., 0., 1., 0., 0.],\n",
       "       [0., 0., 0., 0., 0., 0., 0., 1.]])"
      ]
     },
     "execution_count": 15,
     "metadata": {},
     "output_type": "execute_result"
    }
   ],
   "source": [
    "swap_3qubit"
   ]
  },
  {
   "cell_type": "code",
   "execution_count": 16,
   "id": "bb7c2ec3-2ea1-468d-a7e1-767e244169a1",
   "metadata": {},
   "outputs": [
    {
     "data": {
      "text/plain": [
       "array([[0.        +0.00000000e+00j],\n",
       "       [0.57735027-9.06493304e-17j],\n",
       "       [0.57735027-1.11022302e-16j],\n",
       "       [0.        +0.00000000e+00j],\n",
       "       [0.57735027+0.00000000e+00j],\n",
       "       [0.        +0.00000000e+00j],\n",
       "       [0.        +0.00000000e+00j],\n",
       "       [0.        +0.00000000e+00j]])"
      ]
     },
     "execution_count": 16,
     "metadata": {},
     "output_type": "execute_result"
    }
   ],
   "source": [
    "swap_3qubit @ g2_3qubit @ swap_3qubit @ g1_3qubit @ ket100"
   ]
  },
  {
   "cell_type": "code",
   "execution_count": 17,
   "id": "3f4c0417-eb70-486e-8593-e91070ec29b9",
   "metadata": {},
   "outputs": [],
   "source": [
    "# Pennylane definition\n",
    "def custom_givens(theta):\n",
    "    return np.array([[1, 0, 0, 0], \n",
    "                     [0, np.cos(theta/2), -np.sin(theta/2), 0], \n",
    "                     [0, np.sin(theta/2), np.cos(theta/2), 0],\n",
    "                     [0, 0, 0, 1]])\n"
   ]
  },
  {
   "cell_type": "code",
   "execution_count": 18,
   "id": "bf4e315f-a347-4d6d-802f-330f65c70519",
   "metadata": {},
   "outputs": [
    {
     "data": {
      "text/plain": [
       "array([[ 1.        ,  0.        ,  0.        ,  0.        ],\n",
       "       [ 0.        ,  0.81649658,  0.57735027,  0.        ],\n",
       "       [ 0.        , -0.57735027,  0.81649658,  0.        ],\n",
       "       [ 0.        ,  0.        ,  0.        ,  1.        ]])"
      ]
     },
     "execution_count": 18,
     "metadata": {},
     "output_type": "execute_result"
    }
   ],
   "source": [
    "custom_givens(x)"
   ]
  },
  {
   "cell_type": "code",
   "execution_count": 19,
   "id": "2a6289f0-18a0-470b-97f6-ec273b7600ed",
   "metadata": {},
   "outputs": [
    {
     "data": {
      "text/plain": [
       "array([[ 1.     +0.j,  0.     +0.j,  0.     +0.j,  0.     +0.j],\n",
       "       [ 0.     +0.j,  0.8165 +0.j,  0.57735-0.j,  0.     +0.j],\n",
       "       [ 0.     +0.j, -0.57735-0.j,  0.8165 +0.j,  0.     +0.j],\n",
       "       [ 0.     +0.j,  0.     +0.j,  0.     +0.j,  1.     +0.j]])"
      ]
     },
     "execution_count": 19,
     "metadata": {},
     "output_type": "execute_result"
    }
   ],
   "source": [
    "np.round(g1, 5)"
   ]
  }
 ],
 "metadata": {
  "kernelspec": {
   "display_name": "Python 3",
   "language": "python",
   "name": "python3"
  },
  "language_info": {
   "codemirror_mode": {
    "name": "ipython",
    "version": 3
   },
   "file_extension": ".py",
   "mimetype": "text/x-python",
   "name": "python",
   "nbconvert_exporter": "python",
   "pygments_lexer": "ipython3",
   "version": "3.8.5"
  }
 },
 "nbformat": 4,
 "nbformat_minor": 5
}
