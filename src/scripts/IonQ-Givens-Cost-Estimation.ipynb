{
 "cells": [
  {
   "cell_type": "markdown",
   "id": "98a22208-9226-40c6-8ee0-7a75ac843cef",
   "metadata": {},
   "source": [
    "Givens Rotation Implementation circuit based off of: http://arxiv.org/abs/2004.04174"
   ]
  },
  {
   "cell_type": "code",
   "execution_count": 12,
   "id": "5688f313-dec5-477d-8091-3f368199354f",
   "metadata": {},
   "outputs": [],
   "source": [
    "# Create provider for IonQ system\n",
    "from azure.quantum.cirq import AzureQuantumService\n",
    "service = AzureQuantumService(\n",
    "    resource_id=\"\",\n",
    "    location=\"West US\",\n",
    "    default_target=\"ionq.simulator\"\n",
    ")"
   ]
  },
  {
   "cell_type": "code",
   "execution_count": 13,
   "id": "64cfe31f-7b1e-4b19-b8d1-80f9e01c03ce",
   "metadata": {},
   "outputs": [],
   "source": [
    "# Import Cirq and Numpy\n",
    "import cirq\n",
    "import numpy as np"
   ]
  },
  {
   "cell_type": "code",
   "execution_count": 15,
   "id": "5f104874-5b26-4119-ae43-0e3fcc304d5d",
   "metadata": {},
   "outputs": [],
   "source": [
    "class SqrtISWAP(cirq.Gate):\n",
    "    def __init__(self):\n",
    "        super(SqrtISWAP, self)\n",
    "\n",
    "    def _num_qubits_(self):\n",
    "        return 2\n",
    "    \n",
    "    # Obtained from: https://github.com/quantumlib/Cirq/blob/a22269dfe41b0da78243bbd210a915d26cc7d25f/cirq-core/cirq/ops/swap_gates.py#L166\n",
    "    def _decompose_(self, qubits):\n",
    "        q0, q1 = qubits\n",
    "        yield cirq.CX(q0,q1)\n",
    "        yield cirq.H(q0)\n",
    "        yield cirq.CX(q1,q0)\n",
    "        yield cirq.ZPowGate(exponent=0.25).on(q0)\n",
    "        yield cirq.CX(q1,q0)\n",
    "        yield cirq.ZPowGate(exponent=-0.25).on(q0)\n",
    "        yield cirq.H(q0)\n",
    "        yield cirq.CX(q0,q1)\n",
    "        \n",
    "    def _circuit_diagram_info_(self, args):\n",
    "        return [\"sqrt(iSWAP)\"] * self.num_qubits()"
   ]
  },
  {
   "cell_type": "code",
   "execution_count": 16,
   "id": "fd58dabe-47ff-4589-a180-63808381f2e6",
   "metadata": {},
   "outputs": [],
   "source": [
    "# Create the full Givens Rotation circuit\n",
    "\n",
    "## Arbitrarily chosen Theta, should be made parameterizable for Variational algorithms\n",
    "theta = np.pi/4\n",
    "\n",
    "# create two qubit circuit\n",
    "circuit = cirq.Circuit()\n",
    "q0, q1 = cirq.LineQubit.range(2)\n",
    "\n",
    "# Have to EXPLICITLY call decomposition, Azure Quantum doesn't seem to auto-decompose\n",
    "# to IonQ supported gates (refer to the IonQ API for an explicit set of supported gates)\n",
    "circuit.append(SqrtISWAP().on(q0,q1)._decompose_())\n",
    "\n",
    "# -theta in fig 1b. of http://arxiv.org/abs/2004.04174\n",
    "circuit.append(cirq.Rz(rads=-theta).on(q0))\n",
    "# theta + pi in fig 1b. of http://arxiv.org/abs/2004.04174\n",
    "circuit.append(cirq.Rz(rads=-theta + np.pi).on(q1))\n",
    "\n",
    "\n",
    "circuit.append(SqrtISWAP().on(q0,q1)._decompose_())\n",
    "\n",
    "\n",
    "# pi in fig 1b. of http://arxiv.org/abs/2004.04174\n",
    "circuit.append(cirq.Rz(rads=np.pi).on(q1))\n",
    "circuit.append(cirq.measure(q0, q1, key='b')) # Measure both qubits"
   ]
  },
  {
   "cell_type": "code",
   "execution_count": 17,
   "id": "a36a0217-4c9d-43c8-8bf3-f5bf94801c03",
   "metadata": {},
   "outputs": [
    {
     "name": "stdout",
     "output_type": "stream",
     "text": [
      "0: ───@───H───X───T───X───T^-1───H───@───Rz(-0.25π)───@───H───X───T───X───T^-1───H───@───────────M('b')───\n",
      "      │       │       │              │                │       │       │              │           │\n",
      "1: ───X───────@───────@──────────────X───Rz(0.75π)────X───────@───────@──────────────X───Rz(π)───M────────\n"
     ]
    }
   ],
   "source": [
    "# visualize circuit\n",
    "print(circuit)"
   ]
  },
  {
   "cell_type": "code",
   "execution_count": 18,
   "id": "ee6e78a7-238f-48f7-990b-3f158bcc906c",
   "metadata": {},
   "outputs": [
    {
     "name": "stdout",
     "output_type": "stream",
     "text": [
      "Estimated cost:\n",
      "1\n"
     ]
    }
   ],
   "source": [
    "cost = service.estimate_cost(circuit, repetitions=100, target=\"ionq.qpu\")\n",
    "print(\"Estimated cost:\")\n",
    "print(cost.estimated_total)"
   ]
  },
  {
   "cell_type": "code",
   "execution_count": 19,
   "id": "01312fb5-67f3-4f54-a4e4-6ee5e17c2258",
   "metadata": {},
   "outputs": [],
   "source": [
    "# OPTIONAL Givens rotation Custom gate implemntation\n",
    "# Taking the circuit above, use it as the basis for a custom gate definition that will make things more modular\n",
    "# Builds on the SqrtISWAP class above\n",
    "\n",
    "class IonSupportedGivens(cirq.Gate):\n",
    "    def __init__(self, theta):\n",
    "        super(IonSupportedGivens, self)\n",
    "        self.theta = theta\n",
    "\n",
    "    def _num_qubits_(self):\n",
    "        return 2\n",
    "\n",
    "    def _decompose_(self, qubits):\n",
    "        q0, q1 = qubits\n",
    "        # Have to EXPLICITLY call decomposition, Azure Quantum doesn't seem to auto-decompose\n",
    "        # to IonQ supported gates\n",
    "        yield SqrtISWAP().on(q0,q1)._decompose_()\n",
    "        \n",
    "        yield cirq.Rz(rads=-self.theta).on(q0)\n",
    "        yield cirq.Rz(rads=-self.theta + np.pi).on(q1)\n",
    "\n",
    "        yield SqrtISWAP().on(q0,q1)._decompose_()\n",
    "        yield cirq.Rz(rads=np.pi).on(q1)\n",
    "        \n",
    "    def _circuit_diagram_info_(self, args):\n",
    "        return [\"IonGivens({:.3f})\".format(self.theta)] * self.num_qubits()"
   ]
  },
  {
   "cell_type": "code",
   "execution_count": 20,
   "id": "2dfd4c43-cfe3-4b1b-aef4-220ce7e04593",
   "metadata": {},
   "outputs": [
    {
     "name": "stdout",
     "output_type": "stream",
     "text": [
      "0: ───@───H───X───T───X───T^-1───H───@───Rz(-0.25π)───@───H───X───T───X───T^-1───H───@───────────\n",
      "      │       │       │              │                │       │       │              │\n",
      "1: ───X───────@───────@──────────────X───Rz(0.75π)────X───────@───────@──────────────X───Rz(π)───\n"
     ]
    }
   ],
   "source": [
    "# Test Ion Supported Givens\n",
    "\n",
    "# Create new circuit\n",
    "q0, q1 = cirq.LineQubit.range(2)\n",
    "circuit = cirq.Circuit()\n",
    "\n",
    "circuit.append(cirq.decompose_once(IonSupportedGivens(theta=np.pi/4).on(q0, q1)))\n",
    "print(circuit)\n",
    "\n",
    "# If you try not decomposing at least once IonQ will not accept the circuit (complains it is non-serializable due to\n",
    "# not being decomposable).\n",
    "# circuit.append(IonSupportedGivens(theta=np.pi/4).on(q0, q1))\n",
    "# print(circuit)\n",
    "\n",
    "# If you just use cirq.decompose() over cirq.decompose_once() the decomposition goes too far and introduces\n",
    "# CZ gates that the IonQ API doesn't seem to support\n",
    "# circuit.append(cirq.decompose(IonSupportedGivens(theta=np.pi/4).on(q0, q1)))\n",
    "# print(circuit)\n"
   ]
  },
  {
   "cell_type": "code",
   "execution_count": 21,
   "id": "557e4bce-1bbd-4bd5-9eae-eece814004bc",
   "metadata": {},
   "outputs": [
    {
     "name": "stdout",
     "output_type": "stream",
     "text": [
      "Estimated cost:\n",
      "1\n"
     ]
    }
   ],
   "source": [
    "cost = service.estimate_cost(circuit, repetitions=100, target=\"ionq.qpu\")\n",
    "print(\"Estimated cost:\")\n",
    "print(cost.estimated_total)"
   ]
  }
 ],
 "metadata": {
  "kernelspec": {
   "display_name": "Python 3",
   "language": "python",
   "name": "python3"
  },
  "language_info": {
   "codemirror_mode": {
    "name": "ipython",
    "version": 3
   },
   "file_extension": ".py",
   "mimetype": "text/x-python",
   "name": "python",
   "nbconvert_exporter": "python",
   "pygments_lexer": "ipython3",
   "version": "3.8.5"
  }
 },
 "nbformat": 4,
 "nbformat_minor": 5
}
