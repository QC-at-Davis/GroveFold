{
 "cells": [
  {
   "cell_type": "code",
   "execution_count": 1,
   "id": "c0357d74-a568-4cbe-b051-23ae9121cc4b",
   "metadata": {},
   "outputs": [],
   "source": [
    "import cirq\n",
    "from cirq import Simulator\n",
    "import numpy as np"
   ]
  },
  {
   "cell_type": "code",
   "execution_count": 2,
   "id": "f025de4d-58ed-4e5b-817b-6f7df005dbe3",
   "metadata": {},
   "outputs": [],
   "source": [
    "class SqrtISWAP(cirq.Gate):\n",
    "    def __init__(self):\n",
    "        super(SqrtISWAP, self)\n",
    "\n",
    "    def _num_qubits_(self):\n",
    "        return 2\n",
    "    \n",
    "    # Obtained from: https://github.com/quantumlib/Cirq/blob/a22269dfe41b0da78243bbd210a915d26cc7d25f/cirq-core/cirq/ops/swap_gates.py#L166\n",
    "    def _decompose_(self, qubits):\n",
    "        q0, q1 = qubits\n",
    "        yield cirq.CX(q0,q1)\n",
    "        yield cirq.H(q0)\n",
    "        yield cirq.CX(q1,q0)\n",
    "        yield cirq.ZPowGate(exponent=0.25).on(q0)\n",
    "        yield cirq.CX(q1,q0)\n",
    "        yield cirq.ZPowGate(exponent=-0.25).on(q0)\n",
    "        yield cirq.H(q0)\n",
    "        yield cirq.CX(q0,q1)\n",
    "        \n",
    "    def _circuit_diagram_info_(self, args):\n",
    "        return [\"sqrt(iSWAP)\"] * self.num_qubits()"
   ]
  },
  {
   "cell_type": "code",
   "execution_count": 3,
   "id": "6747340f-36e3-46d5-84b5-561e85ff0f8d",
   "metadata": {},
   "outputs": [],
   "source": [
    "class IonSupportedGivens(cirq.Gate):\n",
    "    def __init__(self, theta):\n",
    "        super(IonSupportedGivens, self)\n",
    "        self.theta = theta\n",
    "\n",
    "    def _num_qubits_(self):\n",
    "        return 2\n",
    "\n",
    "    def _decompose_(self, qubits):\n",
    "        \n",
    "        # Have to EXPLICITLY call decomposition, Azure Quantum doesn't seem to auto-decompose\n",
    "        # to IonQ supported gates\n",
    "        q0, q1 = qubits\n",
    "        yield SqrtISWAP().on(q0,q1)._decompose_()\n",
    "        \n",
    "        yield cirq.Rz(rads= -self.theta).on(q0)\n",
    "        yield cirq.Rz(rads=self.theta + np.pi).on(q1)\n",
    "\n",
    "        yield SqrtISWAP().on(q0,q1)._decompose_()\n",
    "        yield cirq.Rz(rads=np.pi).on(q1)\n",
    "        \n",
    "    def _circuit_diagram_info_(self, args):\n",
    "        return [\"IonGivens({:.3f})\".format(self.theta)] * self.num_qubits()"
   ]
  },
  {
   "cell_type": "code",
   "execution_count": 4,
   "id": "583dd47c-0657-44d0-9977-0bec04d3bdb0",
   "metadata": {},
   "outputs": [
    {
     "name": "stdout",
     "output_type": "stream",
     "text": [
      "0: ───IonGivens(1.047)───\n",
      "      │\n",
      "1: ───IonGivens(1.047)───\n"
     ]
    }
   ],
   "source": [
    "# single qubit test\n",
    "rot_angle = np.pi / 3\n",
    "\n",
    "circuit = cirq.Circuit()\n",
    "q0, q1 = cirq.LineQubit.range(2)\n",
    "circuit.append(IonSupportedGivens(theta=rot_angle).on(q0,q1))\n",
    "print(circuit)"
   ]
  },
  {
   "cell_type": "code",
   "execution_count": 5,
   "id": "ec5f0af2-2e1c-423a-b228-80e8ccc753a5",
   "metadata": {},
   "outputs": [
    {
     "data": {
      "text/plain": [
       "array([[-1.       -1.34015774e-16j,  0.       +0.00000000e+00j,\n",
       "         0.       +0.00000000e+00j,  0.       -3.72797834e-17j],\n",
       "       [ 0.       +0.00000000e+00j, -0.5      -5.88784672e-17j,\n",
       "         0.8660254+1.17756934e-16j,  0.       +0.00000000e+00j],\n",
       "       [ 0.       +0.00000000e+00j, -0.8660254+5.88784672e-17j,\n",
       "        -0.5      +1.96261557e-16j,  0.       +0.00000000e+00j],\n",
       "       [ 0.       -2.29934717e-17j,  0.       -0.00000000e+00j,\n",
       "         0.       -0.00000000e+00j, -1.       +3.51298275e-16j]])"
      ]
     },
     "execution_count": 5,
     "metadata": {},
     "output_type": "execute_result"
    }
   ],
   "source": [
    "# see the matrix unitary\n",
    "# single qubit test\n",
    "circuit.unitary()"
   ]
  },
  {
   "cell_type": "code",
   "execution_count": 6,
   "id": "37971254-13ba-4dfc-8587-418f43532586",
   "metadata": {},
   "outputs": [],
   "source": [
    "simulator = Simulator()\n",
    "\n",
    "# Cirq state initialization tip from Craig Gidney: https://quantumcomputing.stackexchange.com/a/5496\n",
    "# Some simple initial amplitudes that can be verified by hand\n",
    "init = [1/np.sqrt(2), 1/np.sqrt(2), 0, 0]\n",
    "full_superposition = [1/np.sqrt(4)] * 4\n",
    "result = simulator.simulate(circuit, qubit_order=[q0, q1], initial_state=full_superposition)"
   ]
  },
  {
   "cell_type": "code",
   "execution_count": 7,
   "id": "0c48b7af-5585-468f-bf7c-2420735e825a",
   "metadata": {},
   "outputs": [
    {
     "data": {
      "text/plain": [
       "array([-0.5  -0.j,  0.183+0.j, -0.683-0.j, -0.5  +0.j], dtype=complex64)"
      ]
     },
     "execution_count": 7,
     "metadata": {},
     "output_type": "execute_result"
    }
   ],
   "source": [
    "np.round(result.final_state_vector, 3)"
   ]
  },
  {
   "cell_type": "code",
   "execution_count": 8,
   "id": "f4424f02-7b25-4f92-95b0-db2774e7015d",
   "metadata": {},
   "outputs": [
    {
     "data": {
      "text/plain": [
       "array([-0.49999994-0.0000000e+00j,  0.1830127 +2.1073424e-08j,\n",
       "       -0.68301266-2.1073424e-08j, -0.49999994+0.0000000e+00j],\n",
       "      dtype=complex64)"
      ]
     },
     "execution_count": 8,
     "metadata": {},
     "output_type": "execute_result"
    }
   ],
   "source": [
    "result.final_state_vector"
   ]
  },
  {
   "cell_type": "code",
   "execution_count": 9,
   "id": "0aab5787-f593-4ce1-b400-daf78e849eaa",
   "metadata": {},
   "outputs": [
    {
     "name": "stdout",
     "output_type": "stream",
     "text": [
      "0: ───X───IonGivens(-0.615)───IonGivens(-0.785)───\n",
      "          │                   │\n",
      "1: ───────IonGivens(-0.615)───┼───────────────────\n",
      "                              │\n",
      "2: ───────────────────────────IonGivens(-0.785)───\n"
     ]
    }
   ],
   "source": [
    "# create a circuit for testing purposes\n",
    "\n",
    "## Single Excitation circuit from: https://pennylane.ai/qml/demos/tutorial_givens_rotations.html\n",
    "## Create state |100>\n",
    "## Apply givens between qubits [0,1], then [0,2] \n",
    "## with theta =−2arcsin(1/sqrt(3)),phi =−2arcsin(1/sqrt(2)).\n",
    "\n",
    "x = -2 * np.arcsin(np.sqrt(1/3))\n",
    "y = -2 * np.arcsin(np.sqrt(1/2))\n",
    "\n",
    "circuit = cirq.Circuit()\n",
    "q0, q1, q2 = cirq.LineQubit.range(3)\n",
    "circuit.append(cirq.X(q0))\n",
    "circuit.append(IonSupportedGivens(theta=x/2).on(q0,q1))\n",
    "circuit.append(IonSupportedGivens(theta=y/2).on(q0,q2))\n",
    "print(circuit)"
   ]
  },
  {
   "cell_type": "code",
   "execution_count": 10,
   "id": "197c73f8-9ceb-4a61-b9fa-99dc2bc1d1fc",
   "metadata": {},
   "outputs": [],
   "source": [
    "simulator = Simulator()"
   ]
  },
  {
   "cell_type": "code",
   "execution_count": 11,
   "id": "47f9d2cb-b216-4ea5-b730-99f44ea03a9e",
   "metadata": {},
   "outputs": [],
   "source": [
    "result = simulator.simulate(circuit, qubit_order=[q0, q1, q2])"
   ]
  },
  {
   "cell_type": "code",
   "execution_count": 12,
   "id": "66b78dfa-b042-4315-bbf6-f69b4bee46d4",
   "metadata": {},
   "outputs": [
    {
     "data": {
      "text/plain": [
       "array([0.   +0.j, 0.577-0.j, 0.577-0.j, 0.   +0.j, 0.577-0.j, 0.   +0.j,\n",
       "       0.   +0.j, 0.   +0.j], dtype=complex64)"
      ]
     },
     "execution_count": 12,
     "metadata": {},
     "output_type": "execute_result"
    }
   ],
   "source": [
    "np.round(result.final_state_vector, 3)"
   ]
  },
  {
   "cell_type": "code",
   "execution_count": 13,
   "id": "e2f6d006-21e6-48d7-bcc9-861757641ec9",
   "metadata": {},
   "outputs": [
    {
     "name": "stdout",
     "output_type": "stream",
     "text": [
      "0 0j\n",
      "1 (0.57735014-4.2146848e-08j)\n",
      "2 (0.57735026-8.6513546e-10j)\n",
      "3 0j\n",
      "4 (0.5773502-1.2560739e-15j)\n",
      "5 0j\n",
      "6 0j\n",
      "7 8.6513546e-10j\n"
     ]
    }
   ],
   "source": [
    "for ind, i in enumerate(result.final_state_vector):\n",
    "    print(ind, i)"
   ]
  }
 ],
 "metadata": {
  "kernelspec": {
   "display_name": "Python 3",
   "language": "python",
   "name": "python3"
  },
  "language_info": {
   "codemirror_mode": {
    "name": "ipython",
    "version": 3
   },
   "file_extension": ".py",
   "mimetype": "text/x-python",
   "name": "python",
   "nbconvert_exporter": "python",
   "pygments_lexer": "ipython3",
   "version": "3.8.5"
  }
 },
 "nbformat": 4,
 "nbformat_minor": 5
}
